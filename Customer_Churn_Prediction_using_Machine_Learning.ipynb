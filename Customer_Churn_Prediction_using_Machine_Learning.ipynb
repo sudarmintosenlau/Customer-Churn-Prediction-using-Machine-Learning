{
  "nbformat": 4,
  "nbformat_minor": 0,
  "metadata": {
    "colab": {
      "name": "Customer Churn Prediction using Machine Learning ",
      "provenance": [],
      "collapsed_sections": [],
      "authorship_tag": "ABX9TyNZ7XP9c/quXZ0xVZMnm6V0",
      "include_colab_link": true
    },
    "kernelspec": {
      "name": "python3",
      "display_name": "Python 3"
    },
    "language_info": {
      "name": "python"
    }
  },
  "cells": [
    {
      "cell_type": "markdown",
      "metadata": {
        "id": "view-in-github",
        "colab_type": "text"
      },
      "source": [
        "<a href=\"https://colab.research.google.com/github/sudarmintosenlau/Customer-Churn-Prediction-using-Machine-Learning/blob/main/Customer_Churn_Prediction_using_Machine_Learning.ipynb\" target=\"_parent\"><img src=\"https://colab.research.google.com/assets/colab-badge.svg\" alt=\"Open In Colab\"/></a>"
      ]
    },
    {
      "cell_type": "markdown",
      "source": [
        "## Import Library yang dibutuhkan"
      ],
      "metadata": {
        "id": "Zl6tTs8dvKJR"
      }
    },
    {
      "cell_type": "code",
      "execution_count": 1,
      "metadata": {
        "id": "-4o-CaylvIH_"
      },
      "outputs": [],
      "source": [
        "import pandas as pd\n",
        "import numpy as np\n",
        "import matplotlib.pyplot as plt\n",
        "import seaborn as sns\n",
        "from sklearn.preprocessing import LabelEncoder\n",
        "from sklearn.model_selection import train_test_split\n",
        "from sklearn.linear_model import LogisticRegression\n",
        "from sklearn.ensemble import RandomForestClassifier\n",
        "from sklearn.ensemble import GradientBoostingClassifier\n",
        "from sklearn.metrics import confusion_matrix, classification_report\n",
        "import pickle\n",
        "from pathlib import Path"
      ]
    },
    {
      "cell_type": "markdown",
      "source": [
        "## Data yang Digunakan\n",
        "\n",
        "Untuk Dataset yang digunakan sudah disediakan dalam format csv, silahkan baca melalui fungsi pandas di python df_load = pd.read_csv('https://storage.googleapis.com/dqlab-dataset/dqlab_telco_final.csv')\n",
        "\n",
        " \n",
        "\n",
        "Untuk detail datanya adalah sebagai berikut:\n",
        "\n",
        "* UpdatedAt Periode of Data taken\n",
        "* customerID Customer ID\n",
        "* gender Whether the customer is a male or a female (Male, Female)\n",
        "* SeniorCitizen Whether the customer is a senior citizen or not (Yes, No)\n",
        "* Partner Whether the customer has a partner or not (Yes, No)\n",
        "* tenure Number of months the customer has stayed with the company\n",
        "* PhoneService Whether the customer has a phone service or not (Yes, No)\n",
        "* InternetService Customer’s internet service provider (Yes, No)\n",
        "* StreamingTV Whether the customer has streaming TV or not (Yes, No)\n",
        "* PaperlessBilling Whether the customer has paperless billing or not (Yes, No)\n",
        "* MonthlyCharges The amount charged to the customer monthly\n",
        "* TotalCharges The total amount charged to the customer\n",
        "* Churn Whether the customer churned or not (Yes, No)"
      ],
      "metadata": {
        "id": "FOm0X6iSvf6Y"
      }
    },
    {
      "cell_type": "markdown",
      "source": [
        "## File Unloading\n",
        "\n",
        "Melakukan import dataset ke dalam workspace dengan menggunakan read_csv dan menampilkan juga bentuk atau shape dari dataset tersebut beserta 5 data teratas. \n",
        "\n",
        "sumber dataset : https://storage.googleapis.com/dqlab-dataset/dqlab_telco_final.csv"
      ],
      "metadata": {
        "id": "WzWa933bwCFP"
      }
    },
    {
      "cell_type": "code",
      "source": [
        "#import dataset\n",
        "df_load = pd.read_csv('https://storage.googleapis.com/dqlab-dataset/dqlab_telco_final.csv')\n",
        "\n",
        "#Tampilkan bentuk dari dataset\n",
        "print(df_load.shape)\n",
        "\n",
        "#Tampilkan 5 data teratas\n",
        "print(df_load.head())\n",
        "\n",
        "#Tampilkan jumlah ID yang unik\n",
        "print(df_load.customerID.nunique())"
      ],
      "metadata": {
        "colab": {
          "base_uri": "https://localhost:8080/"
        },
        "id": "V6kC-4C3wYWN",
        "outputId": "8c300199-acc0-411e-e1f8-f1a47681c92b"
      },
      "execution_count": 2,
      "outputs": [
        {
          "output_type": "stream",
          "name": "stdout",
          "text": [
            "(6950, 13)\n",
            "   UpdatedAt   customerID  gender  ... MonthlyCharges TotalCharges  Churn\n",
            "0     202006  45759018157  Female  ...          29.85        29.85     No\n",
            "1     202006  45315483266    Male  ...          20.50      1198.80     No\n",
            "2     202006  45236961615    Male  ...         104.10       541.90    Yes\n",
            "3     202006  45929827382  Female  ...         115.50      8312.75     No\n",
            "4     202006  45305082233  Female  ...          81.25      4620.40     No\n",
            "\n",
            "[5 rows x 13 columns]\n",
            "6950\n"
          ]
        }
      ]
    },
    {
      "cell_type": "markdown",
      "source": [
        "##Exploratory Data Analysis\n",
        "\n",
        "Exploratory Data Analysis memungkinkan analyst memahami isi data yang digunakan, mulai dari distribusi, frekuensi, korelasi dan lainnya. Pada umumnya EDA dilakukan dengan beberapa cara:\n",
        "\n",
        "* Univariat Analysis — analisis deskriptif dengan satu variabel.\n",
        "* Bivariat Analysis — analisis relasi dengan dua variabel yang biasanya dengan target variabel.\n",
        "* Multivariat Analysis — analisis yang menggunakan lebih dari atau sama dengan tiga variabel.\n",
        "Dalam kasus ini, kamu diminta untuk melihat persebaran dari:\n",
        "\n",
        "* Prosentase persebaran data Churn dan tidaknya dari seluruh data\n",
        "* Persebarang data dari variable predictor terhadap label (Churn)"
      ],
      "metadata": {
        "id": "Zzfaztr0Iax-"
      }
    },
    {
      "cell_type": "code",
      "source": [
        "#import matplotlib dan seaborn\n",
        "import matplotlib.pyplot as plt\n",
        "import seaborn as sns"
      ],
      "metadata": {
        "id": "t6Jew27JJA5F"
      },
      "execution_count": 3,
      "outputs": []
    },
    {
      "cell_type": "markdown",
      "source": [
        "## Memvisualisasikan Prosentase Churn\n",
        "\n",
        "Kita ingin melihat visualisasi data secara univariat terkait prosentase data churn dari pelanggan. Gunakan fungsi value_counts() untuk menghitung banyaknya unik dari sebuah kolom, pie() untuk membuat pie chart"
      ],
      "metadata": {
        "id": "1Emb-SJpJC4S"
      }
    },
    {
      "cell_type": "code",
      "source": [
        "#Your codes here\n",
        "fig = plt.figure()\n",
        "ax = fig.add_axes([0,0,1,1])\n",
        "ax.axis('equal')\n",
        "labels = ['Yes','No']\n",
        "churn = df_load.Churn.value_counts()\n",
        "ax.pie(churn, labels=labels, autopct='%.0f%%')\n",
        "plt.show()"
      ],
      "metadata": {
        "colab": {
          "base_uri": "https://localhost:8080/",
          "height": 319
        },
        "id": "8bOnf-DoJL_b",
        "outputId": "abdcfcef-bd2b-422a-c394-ae3690e99e26"
      },
      "execution_count": 4,
      "outputs": [
        {
          "output_type": "display_data",
          "data": {
            "image/png": "[encoded data removed]",
            "text/plain": [
              "<Figure size 432x288 with 1 Axes>"
            ]
          },
          "metadata": {}
        }
      ]
    },
    {
      "cell_type": "markdown",
      "source": [
        "## Exploratory Data Analysis (EDA) Variabel Numerik\n",
        "\n",
        "Hal yang akan kita lakukan selanjutnya adalah memilih variable predictor yang bersifat numerik dan membuat plot secara bivariat, kemudian menginterpretasikannya\n",
        "\n",
        "Gunakan data `df_load` untuk di olah di tahap ini dan gunakan fungsi `subplots()` untuk membuat gambar dan satu set subplot."
      ],
      "metadata": {
        "id": "hB64YtjPKcVT"
      }
    },
    {
      "cell_type": "code",
      "source": [
        "#creating bin in chart\n",
        "numerical_features = ['MonthlyCharges','TotalCharges','tenure']\n",
        "fig, ax = plt.subplots(1, 3, figsize=(15, 6))\n",
        "# Use the following code to plot two overlays of histogram per each numerical_features, use a color of blue and orange, respectively\n",
        "df_load[df_load.Churn == 'No'][numerical_features].hist(bins=20, color='blue', alpha=0.5, ax=ax)\n",
        "df_load[df_load.Churn == 'Yes'][numerical_features].hist(bins=20, color='orange', alpha=0.5, ax=ax)\n",
        "plt.show()"
      ],
      "metadata": {
        "colab": {
          "base_uri": "https://localhost:8080/",
          "height": 390
        },
        "id": "28bBSUVhKhDs",
        "outputId": "aa3c798b-29de-4440-c69f-7a2d4a4af56a"
      },
      "execution_count": 5,
      "outputs": [
        {
          "output_type": "display_data",
          "data": {
            "image/png": "[encoded data removed]",
            "text/plain": [
              "<Figure size 1080x432 with 3 Axes>"
            ]
          },
          "metadata": {
            "needs_background": "light"
          }
        }
      ]
    },
    {
      "cell_type": "markdown",
      "source": [
        "## Exploratory Data Analysis (EDA) Variabel Kategorik\n",
        "\n",
        "Setelah itu, kita akan melakukan pemilihan variable predictor yang bersifat kategorik dan membuat plot secara bivariat, kemudian menginterpretasikannya\n",
        "\n",
        "Gunakan data `df_load` untuk di olah di tahap ini. Gunakan fungsi `countplot()` untuk membuat plot dengan jumlah pengamatan di setiap bin kategorik variable"
      ],
      "metadata": {
        "id": "HBuFGr5INRu2"
      }
    },
    {
      "cell_type": "code",
      "source": [
        "fig, ax = plt.subplots(3, 3, figsize=(14, 12))\n",
        "sns.countplot(data=df_load, x='gender', hue='Churn', ax=ax[0][0])\n",
        "sns.countplot(data=df_load, x='Partner', hue='Churn', ax=ax[0][1])\n",
        "sns.countplot(data=df_load, x='SeniorCitizen', hue='Churn', ax=ax[0][2])\n",
        "sns.countplot(data=df_load, x='PhoneService', hue='Churn', ax=ax[1][0])\n",
        "sns.countplot(data=df_load, x='StreamingTV', hue='Churn', ax=ax[1][1])\n",
        "sns.countplot(data=df_load, x='InternetService', hue='Churn', ax=ax[1][2])\n",
        "sns.countplot(data=df_load, x='PaperlessBilling', hue='Churn', ax=ax[2][1])\n",
        "plt.tight_layout()\n",
        "plt.show()"
      ],
      "metadata": {
        "colab": {
          "base_uri": "https://localhost:8080/",
          "height": 873
        },
        "id": "XihyYgUrNU2c",
        "outputId": "7206b7d6-0c07-4b9a-fee6-ddd206784b59"
      },
      "execution_count": 6,
      "outputs": [
        {
          "output_type": "display_data",
          "data": {
            "image/png": "[encoded data removed]",
            "text/plain": [
              "<Figure size 1008x864 with 9 Axes>"
            ]
          },
          "metadata": {
            "needs_background": "light"
          }
        }
      ]
    },
    {
      "cell_type": "markdown",
      "source": [
        "## Kesimpulan\n",
        "\n",
        "Berdasarkan hasil dan analisa di atas dapat disimpulkan:\n",
        "\n",
        "* Pada tahap C.1 dapat kita ketahui bahwa sebaran data secara kesuluruhan customer tidak melakukan churn, dengan detil Churn sebanyak 26% dan No Churn sebanyak 74%.\n",
        "* Pada tahap C.2 dapat kita ketahui bahwa untuk MonthlyCharges ada kecenderungan semakin kecil nilai biaya bulanan yang dikenakan, semakin kecil juga kecenderungan untuk melakukan Churn. Untuk TotalCharges terlihat tidak ada kecenderungan apapun terhadap Churn customers. Untuk tenure ada kecenderungan semakin lama berlangganan customer, semakin kecil kecenderungan untuk melakukan Churn.\n",
        "* Pada tahap C.3 dapat kita ketahui bahwa tidak ada perbedaan yang signifikan untuk orang melakukan churn dilihat dari faktor jenis kelamin (gender) dan layanan telfonnya (PhoneService). Akan tetapi ada kecenderungan bahwa orang yang melakukan churn adalah orang-orang yang tidak memiliki partner (partner: No), orang-orang yang statusnya adalah senior citizen(SeniorCitizen: Yes), orang-orang yang mempunyai layanan streaming TV (StreamingTV: Yes), orang-orang yang mempunyai layanan Internet (internetService: Yes) dan orang-orang yang tagihannya paperless (PaperlessBilling: Yes)."
      ],
      "metadata": {
        "id": "5JTQusiMN8-e"
      }
    },
    {
      "cell_type": "markdown",
      "source": [
        "## Menghapus Unnecessary Columns dari data\n",
        "\n",
        "Selanjutnya kita akan mengapus kolom yang tidak akan diikutsertakan dalam pemodelan, kemudian simpan dengan nama cleaned_df. Tampilkan 5 rows teratas nya.\n",
        "\n",
        "Gunakan `drop()` untuk menghapus kolom dari suatu data"
      ],
      "metadata": {
        "id": "vPaWp272OVsE"
      }
    },
    {
      "cell_type": "code",
      "source": [
        "#Remove the unnecessary columns customerID & UpdatedAt\n",
        "cleaned_df = df_load.drop(['customerID','UpdatedAt'], axis=1)\n",
        "print(cleaned_df.head())"
      ],
      "metadata": {
        "colab": {
          "base_uri": "https://localhost:8080/"
        },
        "id": "pMb-Uzk2OeKD",
        "outputId": "0d46f0e6-a21a-4a43-fa38-5911c3d8d533"
      },
      "execution_count": 7,
      "outputs": [
        {
          "output_type": "stream",
          "name": "stdout",
          "text": [
            "   gender SeniorCitizen Partner  ...  MonthlyCharges TotalCharges Churn\n",
            "0  Female            No     Yes  ...           29.85        29.85    No\n",
            "1    Male            No     Yes  ...           20.50      1198.80    No\n",
            "2    Male            No      No  ...          104.10       541.90   Yes\n",
            "3  Female            No     Yes  ...          115.50      8312.75    No\n",
            "4  Female            No     Yes  ...           81.25      4620.40    No\n",
            "\n",
            "[5 rows x 11 columns]\n"
          ]
        }
      ]
    },
    {
      "cell_type": "markdown",
      "source": [
        "## Encoding Data\n",
        "\n",
        "Gunakan data dari hasil dan analisa sebelumnya `cleaned_df`, untuk merubah value dari data yang masih berbentuk string untuk diubah ke dalam bentuk numeric menggunakan `LabelEncoder()`. Gunakan `describe()` untuk melihat deskripsi datanya."
      ],
      "metadata": {
        "id": "BiDX20o_O-rj"
      }
    },
    {
      "cell_type": "code",
      "source": [
        "from sklearn.preprocessing import LabelEncoder\n",
        "#Convert all the non-numeric columns to numerical data types\n",
        "for column in cleaned_df.columns:\n",
        "    if cleaned_df[column].dtype == np.number: continue\n",
        "    # Perform encoding for each non-numeric column\n",
        "    cleaned_df[column] = LabelEncoder().fit_transform(cleaned_df[column])\n",
        "print(cleaned_df.describe())"
      ],
      "metadata": {
        "colab": {
          "base_uri": "https://localhost:8080/"
        },
        "id": "qYnY1Cx5PJjM",
        "outputId": "5f151475-33a5-4f97-a5d6-e223d8e84535"
      },
      "execution_count": 8,
      "outputs": [
        {
          "output_type": "stream",
          "name": "stdout",
          "text": [
            "            gender  SeniorCitizen  ...  TotalCharges        Churn\n",
            "count  6950.000000    6950.000000  ...   6950.000000  6950.000000\n",
            "mean      0.504317       0.162302  ...   2286.058750     0.264173\n",
            "std       0.500017       0.368754  ...   2265.702553     0.440923\n",
            "min       0.000000       0.000000  ...     19.000000     0.000000\n",
            "25%       0.000000       0.000000  ...    406.975000     0.000000\n",
            "50%       1.000000       0.000000  ...   1400.850000     0.000000\n",
            "75%       1.000000       0.000000  ...   3799.837500     1.000000\n",
            "max       1.000000       1.000000  ...   8889.131250     1.000000\n",
            "\n",
            "[8 rows x 11 columns]\n"
          ]
        },
        {
          "output_type": "stream",
          "name": "stderr",
          "text": [
            "/usr/local/lib/python3.7/dist-packages/ipykernel_launcher.py:4: DeprecationWarning: Converting `np.inexact` or `np.floating` to a dtype is deprecated. The current result is `float64` which is not strictly correct.\n",
            "  after removing the cwd from sys.path.\n"
          ]
        }
      ]
    },
    {
      "cell_type": "markdown",
      "source": [
        "## Splitting Dataset\n",
        "\n",
        "Gunakan data dari hasil dan analisa sebelumnya `cleaned_df`, untuk dibagi datasetnya menjadi 2 bagian (70% training & 30% testing) berdasarkan variable predictor (X) dan targetnya (Y). Gunakan train_test_split() untuk membagi data tersebut. Sertakan `value_counts` untuk mengecek apakah pembagian sudah sama proporsinya. Simpan hasil spliting data menjadi `x_train`, `y_train`, `x_test` & `y_test`."
      ],
      "metadata": {
        "id": "2Ni6cl8iPvj5"
      }
    },
    {
      "cell_type": "code",
      "source": [
        "from sklearn.model_selection import train_test_split\n",
        "# Predictor dan target\n",
        "x = cleaned_df.drop('Churn', axis = 1)\n",
        "y = cleaned_df['Churn']\n",
        "# Splitting train and test\n",
        "x_train, x_test, y_train, y_test = train_test_split(x, y, test_size=0.3, random_state=42)\n",
        "# Print according to the expected result\n",
        "print('Jumlah baris dan kolom dari x_train adalah:', x_train.shape,', sedangkan Jumlah baris dan kolom dari y_train adalah:', y_train.shape)\n",
        "print('Prosentase Churn di data Training adalah:')\n",
        "print(y_train.value_counts(normalize=True))\n",
        "print('Jumlah baris dan kolom dari x_test adalah:', x_test.shape,', sedangkan Jumlah baris dan kolom dari y_test adalah:', y_test.shape)\n",
        "print('Prosentase Churn di data Testing adalah:')\n",
        "print(y_test.value_counts(normalize=True))"
      ],
      "metadata": {
        "colab": {
          "base_uri": "https://localhost:8080/"
        },
        "id": "PRRiW4AzQKeC",
        "outputId": "e568788a-b18e-4a40-a811-5e20cfa17f85"
      },
      "execution_count": 9,
      "outputs": [
        {
          "output_type": "stream",
          "name": "stdout",
          "text": [
            "Jumlah baris dan kolom dari x_train adalah: (4865, 10) , sedangkan Jumlah baris dan kolom dari y_train adalah: (4865,)\n",
            "Prosentase Churn di data Training adalah:\n",
            "0    0.734841\n",
            "1    0.265159\n",
            "Name: Churn, dtype: float64\n",
            "Jumlah baris dan kolom dari x_test adalah: (2085, 10) , sedangkan Jumlah baris dan kolom dari y_test adalah: (2085,)\n",
            "Prosentase Churn di data Testing adalah:\n",
            "0    0.738129\n",
            "1    0.261871\n",
            "Name: Churn, dtype: float64\n"
          ]
        }
      ]
    },
    {
      "cell_type": "markdown",
      "source": [
        "## Kesimpulan\n",
        "\n",
        "Setelah kita analisis lebih lanjut, ternyata ada kolom yang tidak dibutuhkuan dalam model, yaitu Id Number pelanggannya `(customerID)` & periode pengambilan datanya `(UpdatedAt)`, maka hal ini perlu dihapus. Kemudian kita lanjut mengubah value dari data yang masih berbentuk string menjadi numeric melalui encoding, setelah dilakukan terlihat di persebaran datanya khususnya kolom min dan max dari masing masing variable sudah berubah menjadi 0 & 1. Tahap terakhir adalah membagi data menjadi 2 bagian untuk keperluan modelling, setelah dilakukan terlihat dari jumlah baris dan kolom masing-masing data sudah sesuai & prosentase kolom churn juga sama dengan data di awal, hal ini mengindikasikan bahwasannya data terpisah dengan baik dan benar."
      ],
      "metadata": {
        "id": "46AMVUk8QNbo"
      }
    },
    {
      "cell_type": "markdown",
      "source": [
        "## Pembuatan Model\n",
        "\n",
        "Selanjutnya kita akan membuat model dengan menggunakan Algoritma Logistic Regression.\n",
        "\n",
        "Gunakan `LogisticRegression()` memanggil algoritma tersebut, fit ke data train dan simpan sebagai `log_model`"
      ],
      "metadata": {
        "id": "FeFnnCsIQZBx"
      }
    },
    {
      "cell_type": "code",
      "source": [
        "from sklearn.linear_model import LogisticRegression\n",
        "log_model = LogisticRegression().fit(x_train, y_train)\n",
        "print('Model Logistic Regression yang terbentuk adalah: \\n', log_model)"
      ],
      "metadata": {
        "colab": {
          "base_uri": "https://localhost:8080/"
        },
        "id": "b_RCpI3yQrRx",
        "outputId": "5ad36987-a7fb-4cce-c4e1-9f20f62aa327"
      },
      "execution_count": 10,
      "outputs": [
        {
          "output_type": "stream",
          "name": "stdout",
          "text": [
            "Model Logistic Regression yang terbentuk adalah: \n",
            " LogisticRegression()\n"
          ]
        },
        {
          "output_type": "stream",
          "name": "stderr",
          "text": [
            "/usr/local/lib/python3.7/dist-packages/sklearn/linear_model/_logistic.py:818: ConvergenceWarning: lbfgs failed to converge (status=1):\n",
            "STOP: TOTAL NO. of ITERATIONS REACHED LIMIT.\n",
            "\n",
            "Increase the number of iterations (max_iter) or scale the data as shown in:\n",
            "    https://scikit-learn.org/stable/modules/preprocessing.html\n",
            "Please also refer to the documentation for alternative solver options:\n",
            "    https://scikit-learn.org/stable/modules/linear_model.html#logistic-regression\n",
            "  extra_warning_msg=_LOGISTIC_SOLVER_CONVERGENCE_MSG,\n"
          ]
        }
      ]
    },
    {
      "cell_type": "markdown",
      "source": [
        "## Performansi Model Training - Menampilkan Metrics\n",
        "\n",
        "Setelah kita membuat modelnya, maka lakukan perhitungan untuk memperoleh classification reportnya pada data training seperti hasil di bawah ini. Gunakan `classification_report()`."
      ],
      "metadata": {
        "id": "XkqmiG4-RGXw"
      }
    },
    {
      "cell_type": "code",
      "source": [
        "from sklearn.metrics import classification_report\n",
        "# Predict\n",
        "y_train_pred = log_model.predict(x_train)\n",
        "# Print classification report\n",
        "print('Classification Report Training Model (Logistic Regression) :')\n",
        "print(classification_report(y_train, y_train_pred))"
      ],
      "metadata": {
        "colab": {
          "base_uri": "https://localhost:8080/"
        },
        "id": "h2y4XfXERRPv",
        "outputId": "ac1e99e5-e9f3-4c30-f39d-7ae4a1d91171"
      },
      "execution_count": 11,
      "outputs": [
        {
          "output_type": "stream",
          "name": "stdout",
          "text": [
            "Classification Report Training Model (Logistic Regression) :\n",
            "              precision    recall  f1-score   support\n",
            "\n",
            "           0       0.83      0.90      0.87      3575\n",
            "           1       0.65      0.50      0.56      1290\n",
            "\n",
            "    accuracy                           0.79      4865\n",
            "   macro avg       0.74      0.70      0.71      4865\n",
            "weighted avg       0.78      0.79      0.79      4865\n",
            "\n"
          ]
        }
      ]
    },
    {
      "cell_type": "markdown",
      "source": [
        "## Performansi Model Training - Menampilkan Plots\n",
        "\n",
        "Setelah mendapatkan hasil classification report pada tahap sebelumnya, kita dapat juga menampilkan confusion matrix-nya. Confusion matrix ini diperoleh dengan menggunakan `confusion_matrix` dan dapat divisualisasikan dengan menggunakan `heatmap` dari `seaborn`."
      ],
      "metadata": {
        "id": "leRGhXWGR7VV"
      }
    },
    {
      "cell_type": "code",
      "source": [
        "# Form confusion matrix as a DataFrame\n",
        "confusion_matrix_df = pd.DataFrame((confusion_matrix(y_train, y_train_pred)), ('No churn', 'Churn'), ('No churn', 'Churn'))\n",
        "\n",
        "# Plot confusion matrix\n",
        "plt.figure()\n",
        "heatmap = sns.heatmap(confusion_matrix_df, annot=True, annot_kws={'size': 14}, fmt='d', cmap='YlGnBu')\n",
        "heatmap.yaxis.set_ticklabels(heatmap.yaxis.get_ticklabels(), rotation=0, ha='right', fontsize=14)\n",
        "heatmap.xaxis.set_ticklabels(heatmap.xaxis.get_ticklabels(), rotation=0, ha='right', fontsize=14)\n",
        "\n",
        "plt.title('Confusion Matrix for Training Model\\n(Logistic Regression)', fontsize=18, color='darkblue')\n",
        "plt.ylabel('True label', fontsize=14)\n",
        "plt.xlabel('Predicted label', fontsize=14)\n",
        "plt.tight_layout()\n",
        "plt.show()"
      ],
      "metadata": {
        "colab": {
          "base_uri": "https://localhost:8080/",
          "height": 297
        },
        "id": "6M6WPAFgSEsV",
        "outputId": "f0840acd-668b-4293-e8ad-1063de129872"
      },
      "execution_count": 12,
      "outputs": [
        {
          "output_type": "display_data",
          "data": {
            "image/png": "[encoded data removed]",
            "text/plain": [
              "<Figure size 432x288 with 2 Axes>"
            ]
          },
          "metadata": {
            "needs_background": "light"
          }
        }
      ]
    },
    {
      "cell_type": "markdown",
      "source": [
        "## Performansi Data Testing - Menampilkan Metrics\n",
        "\n",
        "Setelah kita membuat modelnya, maka lakukan perhitungan untuk memperoleh classification reportnya pada data testing seperti hasil di bawah ini. Gunakan `classification_report()`."
      ],
      "metadata": {
        "id": "ciE2PjQmXYJf"
      }
    },
    {
      "cell_type": "code",
      "source": [
        "# Predict\n",
        "y_test_pred = log_model.predict(x_test)\n",
        "# Print classification report\n",
        "print('Classification Report Testing Model (Logistic Regression):')\n",
        "print(classification_report(y_test, y_test_pred))"
      ],
      "metadata": {
        "colab": {
          "base_uri": "https://localhost:8080/"
        },
        "id": "WJH2FoyHXcGn",
        "outputId": "6caf4718-806f-44d3-ce97-5246e4e9173e"
      },
      "execution_count": 13,
      "outputs": [
        {
          "output_type": "stream",
          "name": "stdout",
          "text": [
            "Classification Report Testing Model (Logistic Regression):\n",
            "              precision    recall  f1-score   support\n",
            "\n",
            "           0       0.83      0.90      0.87      1539\n",
            "           1       0.64      0.49      0.56       546\n",
            "\n",
            "    accuracy                           0.79      2085\n",
            "   macro avg       0.74      0.70      0.71      2085\n",
            "weighted avg       0.78      0.79      0.79      2085\n",
            "\n"
          ]
        }
      ]
    },
    {
      "cell_type": "markdown",
      "source": [
        "## Performansi Data Testing - Menampilkan Plots\n",
        "\n",
        "Setelah mendapatkan hasil classification report pada tahap sebelumnya, kita dapat juga menampilkan confusion matrix-nya untuk data testing. Confusion matrix ini diperoleh dengan menggunakan `confusion_matrix` dan dapat divisualisasikan dengan menggunakan `heatmap` dari `seaborn`."
      ],
      "metadata": {
        "id": "4oDuVOROgGVK"
      }
    },
    {
      "cell_type": "code",
      "source": [
        "# Form confusion matrix as a DataFrame\n",
        "confusion_matrix_df = pd.DataFrame((confusion_matrix(y_test, y_test_pred)), ('No churn', 'Churn'), ('No churn', 'Churn'))\n",
        "\n",
        "# Plot confusion matrix\n",
        "plt.figure()\n",
        "heatmap = sns.heatmap(confusion_matrix_df, annot=True, annot_kws={'size': 14}, fmt='d', cmap='YlGnBu')\n",
        "heatmap.yaxis.set_ticklabels(heatmap.yaxis.get_ticklabels(), rotation=0, ha='right', fontsize=14)\n",
        "heatmap.xaxis.set_ticklabels(heatmap.xaxis.get_ticklabels(), rotation=0, ha='right', fontsize=14)\n",
        "\n",
        "plt.title('Confusion Matrix for Testing Model\\n(Logistic Regression)\\n', fontsize=18, color='darkblue')\n",
        "plt.ylabel('True label', fontsize=14)\n",
        "plt.xlabel('Predicted label', fontsize=14)\n",
        "plt.tight_layout()\n",
        "plt.show()"
      ],
      "metadata": {
        "colab": {
          "base_uri": "https://localhost:8080/",
          "height": 297
        },
        "id": "Fz-ftcJ6gPFk",
        "outputId": "1786741c-56e5-4621-e7f8-5c8cd63eaa4a"
      },
      "execution_count": 14,
      "outputs": [
        {
          "output_type": "display_data",
          "data": {
            "image/png": "[encoded data removed]",
            "text/plain": [
              "<Figure size 432x288 with 2 Axes>"
            ]
          },
          "metadata": {
            "needs_background": "light"
          }
        }
      ]
    },
    {
      "cell_type": "markdown",
      "source": [
        "## Kesimpulan\n",
        "\n",
        "Dari hasil dan analisa di atas, maka:\n",
        "\n",
        "* Jika kita menggunakan menggunakan algoritma logistic regression dengan memanggil `LogisticRegression()` dari sklearn tanpa menambahi parameter apapun, maka yang dihasilkan adalah model dengan seting default dari sklearn, untuk detilnya bisa dilihat di dokumentasinya.\n",
        "* Dari data training terlihat bahwasannya model mampu memprediksi data dengan menghasilkan akurasi sebesar 80%, dengan detil tebakan `churn` yang sebenernya `benar churn` adalah 638, tebakan `tidak churn` yang sebenernya `tidak churn` adalah 3237, tebakan `tidak churn` yang sebenernya `benar churn` adalah 652 dan tebakan `churn` yang sebenernya `tidak churn` adalah 338.\n",
        "* Dari data testing terlihat bahwasannya model mampu memprediksi data dengan menghasilkan akurasi sebesar 79%, dengan detil tebakan `churn` yang sebenernya `benar churn` adalah 264, tebakan `tidak churn` yang sebenernya `tidak churn` adalah 1392, tebakan `tidak churn` yang sebenernya benar `churn` adalah 282 dan tebakan `churn` yang sebenernya `tidak churn` adalah 146."
      ],
      "metadata": {
        "id": "Mfk9LSgkgkv4"
      }
    },
    {
      "cell_type": "markdown",
      "source": [
        "## Pembuatan Model\n",
        "\n",
        "Selanjutnya kita akan membuat model dengan menggunakan Algoritma Random Forest Classifier.\n",
        "\n",
        "Gunakan `RandomForestClassifier()` memanggil algoritma tersebut, fit ke data train dan simpan sebagai `rdf_model`"
      ],
      "metadata": {
        "id": "_q4h-WzKg0fi"
      }
    },
    {
      "cell_type": "code",
      "source": [
        "#Train the model\n",
        "rdf_model = RandomForestClassifier().fit(x_train, y_train)\n",
        "print(rdf_model)"
      ],
      "metadata": {
        "colab": {
          "base_uri": "https://localhost:8080/"
        },
        "id": "HXUTxhGph78X",
        "outputId": "0dd353e5-e2c5-4416-a99f-80e9072c14c9"
      },
      "execution_count": 15,
      "outputs": [
        {
          "output_type": "stream",
          "name": "stdout",
          "text": [
            "RandomForestClassifier()\n"
          ]
        }
      ]
    },
    {
      "cell_type": "markdown",
      "source": [
        "## Performansi Data Training - Menampilkan Metrics\n",
        "\n",
        "Setelah kita membuat modelnya, maka lakukan perhitungan untuk memperoleh classification reportnya untuk data training seperti hasil di bawah ini. Gunakan `classification_report()`."
      ],
      "metadata": {
        "id": "cm2qZkYwimLw"
      }
    },
    {
      "cell_type": "code",
      "source": [
        "y_train_pred = rdf_model.predict(x_train)\n",
        "print('Classification Report Training Model (Random Forest Classifier) :')\n",
        "print(classification_report(y_train, y_train_pred))"
      ],
      "metadata": {
        "colab": {
          "base_uri": "https://localhost:8080/"
        },
        "id": "rCXx_9Q7isdV",
        "outputId": "5991eb02-bf14-489e-f631-184456697c38"
      },
      "execution_count": 16,
      "outputs": [
        {
          "output_type": "stream",
          "name": "stdout",
          "text": [
            "Classification Report Training Model (Random Forest Classifier) :\n",
            "              precision    recall  f1-score   support\n",
            "\n",
            "           0       1.00      1.00      1.00      3575\n",
            "           1       0.99      0.99      0.99      1290\n",
            "\n",
            "    accuracy                           1.00      4865\n",
            "   macro avg       1.00      0.99      0.99      4865\n",
            "weighted avg       1.00      1.00      1.00      4865\n",
            "\n"
          ]
        }
      ]
    },
    {
      "cell_type": "markdown",
      "source": [
        "## Performansi Data Training - Menampilkan Plots\n",
        "\n",
        "Setelah mendapatkan hasil classification report pada tahap sebelumnya, kita dapat juga menampilkan confusion matrix-nya untuk data training. Confusion matrix ini diperoleh dengan menggunakan `confusion_matrix` dan dapat divisualisasikan dengan menggunakan `heatmap` dari `seaborn`."
      ],
      "metadata": {
        "id": "wk6fehYkjqfu"
      }
    },
    {
      "cell_type": "code",
      "source": [
        "# Form confusion matrix as a DataFrame\n",
        "confusion_matrix_df = pd.DataFrame((confusion_matrix(y_train, y_train_pred)), ('No churn', 'Churn'), ('No churn', 'Churn'))\n",
        "\n",
        "# Plot confusion matrix\n",
        "plt.figure()\n",
        "heatmap = sns.heatmap(confusion_matrix_df, annot=True, annot_kws={'size': 14}, fmt='d', cmap='YlGnBu')\n",
        "heatmap.yaxis.set_ticklabels(heatmap.yaxis.get_ticklabels(), rotation=0, ha='right', fontsize=14)\n",
        "heatmap.xaxis.set_ticklabels(heatmap.xaxis.get_ticklabels(), rotation=0, ha='right', fontsize=14)\n",
        "\n",
        "plt.title('Confusion Matrix for Training Model\\n(Random Forest)', fontsize=18, color='darkblue')\n",
        "plt.ylabel('True label', fontsize=14)\n",
        "plt.xlabel('Predicted label', fontsize=14)\n",
        "plt.tight_layout()\n",
        "plt.show()"
      ],
      "metadata": {
        "id": "ff6DE4Rtj0DW",
        "colab": {
          "base_uri": "https://localhost:8080/",
          "height": 297
        },
        "outputId": "ab1539b8-1faf-4f56-a638-0efc67a5faf6"
      },
      "execution_count": 17,
      "outputs": [
        {
          "output_type": "display_data",
          "data": {
            "image/png": "[encoded data removed]",
            "text/plain": [
              "<Figure size 432x288 with 2 Axes>"
            ]
          },
          "metadata": {
            "needs_background": "light"
          }
        }
      ]
    },
    {
      "cell_type": "markdown",
      "source": [
        "## Performansi Data Testing - Menampilkan Metrics\n",
        "\n",
        "Setelah kita membuat modelnya, maka lakukan perhitungan untuk memperoleh classification reportnya untuk data testing seperti hasil di bawah ini. Gunakan `classification_report()`."
      ],
      "metadata": {
        "id": "fM7z6_fpn_AK"
      }
    },
    {
      "cell_type": "code",
      "source": [
        "# Predict\n",
        "y_test_pred = rdf_model.predict(x_test)\n",
        "# Print classification report\n",
        "print('Classification Report Testing Model (Random Forest Classifier):')\n",
        "print(classification_report(y_test, y_test_pred))"
      ],
      "metadata": {
        "colab": {
          "base_uri": "https://localhost:8080/"
        },
        "id": "m-EPHrLRoEf5",
        "outputId": "1886320b-648c-44a9-98b9-9938bed6c234"
      },
      "execution_count": 18,
      "outputs": [
        {
          "output_type": "stream",
          "name": "stdout",
          "text": [
            "Classification Report Testing Model (Random Forest Classifier):\n",
            "              precision    recall  f1-score   support\n",
            "\n",
            "           0       0.83      0.89      0.86      1539\n",
            "           1       0.60      0.48      0.53       546\n",
            "\n",
            "    accuracy                           0.78      2085\n",
            "   macro avg       0.71      0.68      0.69      2085\n",
            "weighted avg       0.77      0.78      0.77      2085\n",
            "\n"
          ]
        }
      ]
    },
    {
      "cell_type": "markdown",
      "source": [
        "## Performansi Data Testing - Menampilkan Plots\n",
        "\n",
        "Dengan cara yang sama untuk menghitung clasification report, confusion matrix juga dapat dikalkulasi. Confusion matrix untuk data testing diperoleh dengan menggunakan `confusion_matrix` dan dapat divisualisasikan dengan menggunakan `heatmap` dari `seaborn`."
      ],
      "metadata": {
        "id": "pdzDg99WoPcF"
      }
    },
    {
      "cell_type": "code",
      "source": [
        "# Form confusion matrix as a DataFrame\n",
        "confusion_matrix_df = pd.DataFrame((confusion_matrix(y_test, y_test_pred)), ('No churn', 'Churn'), ('No churn', 'Churn'))\n",
        "\n",
        "# Plot confusion matrix\n",
        "plt.figure()\n",
        "heatmap = sns.heatmap(confusion_matrix_df, annot=True, annot_kws={'size': 14}, fmt='d', cmap='YlGnBu')\n",
        "heatmap.yaxis.set_ticklabels(heatmap.yaxis.get_ticklabels(), rotation=0, ha='right', fontsize=14)\n",
        "heatmap.xaxis.set_ticklabels(heatmap.xaxis.get_ticklabels(), rotation=0, ha='right', fontsize=14)\n",
        "\n",
        "plt.title('Confusion Matrix for Testing Model\\n(Random Forest)\\n', fontsize=18, color='darkblue')\n",
        "plt.ylabel('True label', fontsize=14)\n",
        "plt.xlabel('Predicted label', fontsize=14)\n",
        "plt.tight_layout()\n",
        "plt.show()"
      ],
      "metadata": {
        "colab": {
          "base_uri": "https://localhost:8080/",
          "height": 297
        },
        "id": "0Aeel7bGoZRb",
        "outputId": "5492d34c-015d-4cd7-950d-4878630e16bf"
      },
      "execution_count": 19,
      "outputs": [
        {
          "output_type": "display_data",
          "data": {
            "image/png": "[encoded data removed]",
            "text/plain": [
              "<Figure size 432x288 with 2 Axes>"
            ]
          },
          "metadata": {
            "needs_background": "light"
          }
        }
      ]
    },
    {
      "cell_type": "markdown",
      "source": [
        "## Kesimpulan\n",
        "\n",
        "Dari hasil dan analisa di atas, maka:\n",
        "\n",
        "* Jika kita menggunakan menggunakan algoritma Random Forest dengan memanggil `RandomForestClassifier()` dari sklearn tanpa menambahi parameter apapun, maka yang dihasilkan adalah model dengan seting default dari sklearn, untuk detilnya bisa dilihat di dokumentasinya.\n",
        "* Dari data training terlihat bahwasannya model mampu memprediksi data dengan menghasilkan akurasi sebesar 100%, dengan detil tebakan `churn` yang sebenernya `benar churn` adalah 1278, tebakan `tidak churn` yang sebenernya `tidak churn` adalah 3566, tebakan `tidak churn` yang sebenernya benar `churn` adalah 12 dan tebakan `churn` yang sebenernya `tidak churn` adalah 9.\n",
        "* Dari data testing terlihat bahwasannya model mampu memprediksi data dengan menghasilkan akurasi sebesar 78%, dengan detil tebakan `churn` yang sebenernya benar `churn` adalah 262, tebakan `tidak churn` yang sebenernya `tidak churn` adalah 1360, tebakan `tidak churn` yang sebenernya benar `churn` adalah 284 dan tebakan `churn` yang sebenernya `tidak churn` adalah 179."
      ],
      "metadata": {
        "id": "H6socnUhowZe"
      }
    },
    {
      "cell_type": "markdown",
      "source": [
        "## Pembuatan Model\n",
        "\n",
        "Model berikutnya dapat dibuat dengan menggunakan Algoritma Gradient Boosting Classifier.\n",
        "\n",
        " \n",
        "Gunakan `GradientBoostingClassifier()` memanggil algoritma tersebut, fit ke data train dan simpan sebagai `gbt_model`."
      ],
      "metadata": {
        "id": "FvJvNWKipZyT"
      }
    },
    {
      "cell_type": "code",
      "source": [
        "#Train the model\n",
        "gbt_model = GradientBoostingClassifier().fit(x_train, y_train)\n",
        "print(gbt_model)"
      ],
      "metadata": {
        "colab": {
          "base_uri": "https://localhost:8080/"
        },
        "id": "VpMt6ZxWpqOP",
        "outputId": "d778cc34-9e54-483e-f230-e5773fab5af5"
      },
      "execution_count": 20,
      "outputs": [
        {
          "output_type": "stream",
          "name": "stdout",
          "text": [
            "GradientBoostingClassifier()\n"
          ]
        }
      ]
    },
    {
      "cell_type": "markdown",
      "source": [
        "## Perfomansi Model Data Training - Menampilkan Metrics\n",
        "\n",
        "Setelah kita membuat modelnya, maka lakukan perhitungan untuk memperoleh classification reportnya untuk data training seperti hasil di bawah ini. Gunakan `classification_report()`."
      ],
      "metadata": {
        "id": "Vqj4oXQFp34u"
      }
    },
    {
      "cell_type": "code",
      "source": [
        "# Predict\n",
        "y_train_pred = gbt_model.predict(x_train)\n",
        "# Print classification report\n",
        "print('Classification Report Training Model (Gradient Boosting):')\n",
        "print(classification_report(y_train, y_train_pred))"
      ],
      "metadata": {
        "colab": {
          "base_uri": "https://localhost:8080/"
        },
        "id": "QkN0hUOYp9EH",
        "outputId": "d7a4d44c-8dd2-4c23-e595-4f693c20db9b"
      },
      "execution_count": 21,
      "outputs": [
        {
          "output_type": "stream",
          "name": "stdout",
          "text": [
            "Classification Report Training Model (Gradient Boosting):\n",
            "              precision    recall  f1-score   support\n",
            "\n",
            "           0       0.84      0.92      0.88      3575\n",
            "           1       0.70      0.53      0.60      1290\n",
            "\n",
            "    accuracy                           0.82      4865\n",
            "   macro avg       0.77      0.72      0.74      4865\n",
            "weighted avg       0.81      0.82      0.81      4865\n",
            "\n"
          ]
        }
      ]
    },
    {
      "cell_type": "markdown",
      "source": [
        "## Perfomansi Model Data Training - Menampilkan Plots\n",
        "\n",
        "Selanjutnya, confusion matrix dapat ditampilkan untuk data training. Confusion matrix ini diperoleh dengan menggunakan `confusion_matrix` dan dapat divisualisasikan dengan menggunakan `heatmap` dari `seaborn`."
      ],
      "metadata": {
        "id": "efbSJ71RqMnu"
      }
    },
    {
      "cell_type": "code",
      "source": [
        "# Form confusion matrix as a DataFrame\n",
        "confusion_matrix_df = pd.DataFrame((confusion_matrix(y_train, y_train_pred)), ('No churn', 'Churn'), ('No churn', 'Churn'))\n",
        "\n",
        "# Plot confusion matrix\n",
        "plt.figure()\n",
        "heatmap = sns.heatmap(confusion_matrix_df, annot=True, annot_kws={'size': 14}, fmt='d', cmap='YlGnBu')\n",
        "heatmap.yaxis.set_ticklabels(heatmap.yaxis.get_ticklabels(), rotation=0, ha='right', fontsize=14)\n",
        "heatmap.xaxis.set_ticklabels(heatmap.xaxis.get_ticklabels(), rotation=0, ha='right', fontsize=14)\n",
        "\n",
        "plt.title('Confusion Matrix for Training Model\\n(Gradient Boosting)', fontsize=18, color='darkblue')\n",
        "plt.ylabel('True label', fontsize=14)\n",
        "plt.xlabel('Predicted label', fontsize=14)\n",
        "plt.tight_layout()\n",
        "plt.show()"
      ],
      "metadata": {
        "colab": {
          "base_uri": "https://localhost:8080/",
          "height": 297
        },
        "id": "n3G446EWqUph",
        "outputId": "bf03122c-2f02-46be-fa6a-fd226170f4b3"
      },
      "execution_count": 22,
      "outputs": [
        {
          "output_type": "display_data",
          "data": {
            "image/png": "[encoded data removed]",
            "text/plain": [
              "<Figure size 432x288 with 2 Axes>"
            ]
          },
          "metadata": {
            "needs_background": "light"
          }
        }
      ]
    },
    {
      "cell_type": "markdown",
      "source": [
        "## Performansi Model Data Testing - Menampilkan Metrics\n",
        "\n",
        "Setelah kita membuat modelnya, maka lakukan perhitungan untuk memperoleh classification reportnya untuk data testing seperti hasil di bawah ini. Gunakan `classification_report()`."
      ],
      "metadata": {
        "id": "kLBSr3YYqnMl"
      }
    },
    {
      "cell_type": "code",
      "source": [
        "# Predict\n",
        "y_test_pred = gbt_model.predict(x_test)\n",
        "# Print classification report\n",
        "print('Classification Report Testing Model (Gradient Boosting):')\n",
        "print(classification_report(y_test, y_test_pred))"
      ],
      "metadata": {
        "colab": {
          "base_uri": "https://localhost:8080/"
        },
        "id": "DFMVLIvrqyt7",
        "outputId": "2b05ee67-60c2-495c-a1c1-95c600c09cbc"
      },
      "execution_count": 23,
      "outputs": [
        {
          "output_type": "stream",
          "name": "stdout",
          "text": [
            "Classification Report Testing Model (Gradient Boosting):\n",
            "              precision    recall  f1-score   support\n",
            "\n",
            "           0       0.83      0.91      0.87      1539\n",
            "           1       0.64      0.48      0.55       546\n",
            "\n",
            "    accuracy                           0.79      2085\n",
            "   macro avg       0.74      0.69      0.71      2085\n",
            "weighted avg       0.78      0.79      0.78      2085\n",
            "\n"
          ]
        }
      ]
    },
    {
      "cell_type": "markdown",
      "source": [
        "## Performansi Model Data Testing - Menampilkan Plots\n",
        "\n",
        "visualisasi untuk metrics confusion matrix untuk data testing."
      ],
      "metadata": {
        "id": "Pao3QblKrlOb"
      }
    },
    {
      "cell_type": "code",
      "source": [
        "# Form confusion matrix as a DataFrame\n",
        "confusion_matrix_df = pd.DataFrame((confusion_matrix(y_test, y_test_pred)), ('No churn', 'Churn'), ('No churn', 'Churn'))\n",
        "\n",
        "# Plot confusion matrix\n",
        "plt.figure()\n",
        "heatmap = sns.heatmap(confusion_matrix_df, annot=True, annot_kws={'size': 14}, fmt='d', cmap='YlGnBu')\n",
        "heatmap.yaxis.set_ticklabels(heatmap.yaxis.get_ticklabels(), rotation=0, ha='right', fontsize=14)\n",
        "heatmap.xaxis.set_ticklabels(heatmap.xaxis.get_ticklabels(), rotation=0, ha='right', fontsize=14)\n",
        "\n",
        "plt.title('Confusion Matrix for Testing Model\\n(Gradient Boosting)', fontsize=18, color='darkblue')\n",
        "plt.ylabel('True label', fontsize=14)\n",
        "plt.xlabel('Predicted label', fontsize=14)\n",
        "plt.tight_layout()\n",
        "plt.show()"
      ],
      "metadata": {
        "colab": {
          "base_uri": "https://localhost:8080/",
          "height": 297
        },
        "id": "BlsWm3W1rwCT",
        "outputId": "7cd89eb5-d7a1-4017-d85d-6de28769259a"
      },
      "execution_count": 24,
      "outputs": [
        {
          "output_type": "display_data",
          "data": {
            "image/png": "[encoded data removed]",
            "text/plain": [
              "<Figure size 432x288 with 2 Axes>"
            ]
          },
          "metadata": {
            "needs_background": "light"
          }
        }
      ]
    },
    {
      "cell_type": "markdown",
      "source": [
        "## Kesimpulan\n",
        "\n",
        "Dari hasil dan analisa di atas, maka:\n",
        "\n",
        "* Jika kita menggunakan menggunakan algoritma Gradient Boosting dengan memanggil GradientBoostingClassifier() dari package sklearn tanpa menambahi parameter apapun, maka yang dihasilkan adalah model dengan seting default dari sklearn, untuk detilnya bisa dilihat di dokumentasinya.\n",
        "* Dari data training terlihat bahwasannya model mampu memprediksi data dengan menghasilkan akurasi sebesar 82%, dengan detil tebakan `churn` yang sebenernya `benar churn` adalah 684, tebakan `tidak churn` yang sebenernya `tidak churn` adalah 3286, tebakan `tidak churn` yang sebenernya benar `churn` adalah 606 dan tebakan `churn` yang sebenernya `tidak churn` adalah 289.\n",
        "* Dari data testing terlihat bahwasannya model mampu memprediksi data dengan menghasilkan akurasi sebesar 79%, dengan detil tebakan `churn` yang sebenernya `benar churn` adalah 261, tebakan `tidak churn` yang sebenernya `tidak churn` adalah 1394, tebakan `tidak churn` yang sebenernya benar `churn` adalah 285 dan tebakan `churn` yang sebenernya `tidak churn` adalah 145."
      ],
      "metadata": {
        "id": "esymgHdusG9b"
      }
    },
    {
      "cell_type": "markdown",
      "source": [
        "## Menentukan Algoritma Model Terbaik\n",
        "\n",
        "Model yang baik adalah model yang mampu memberikan performa bagus di fase training dan testing model.\n",
        "\n",
        "* Over-Fitting adalah suatu kondisi dimana model mampu memprediksi dengan sangat baik di fase training, akan tetapi tidak mampu memprediksi sama baiknya di fase testing.\n",
        "* Under-Fitting adalah suatu kondisi dimana model kurang mampu memprediksi dengan baik di fase training, akan tetapi mampu memprediksi dengan baik di fase testing.\n",
        "* Appropriate-Fitting adalah suatu kondisi dimana model mampu memprediksi dengan baik di fase training maupun di fase testing.\n",
        "Untuk detil jelasnya, bisa dilihat di ilustrasi di bawah ini:\n",
        "\n",
        "\n",
        "![image](https://user-images.githubusercontent.com/62486840/148067753-1f50c4f7-c47a-493c-9c22-b4d66b0db1a5.png)\n",
        "\n",
        "Selanjutnya kita akan menentukan model algoritma terbaik dari model yang sudah di lakukan di atas (Appropriate-Fitting), kemudian kita simpan sebagai file best_model_churn.pkl dengan tujuan untuk deployment model nantinya kita tidak perlu mengulang lagi pemodelan, cukup memanggil file tersebut saja. Simpan di file direktori sesuai dataset berada, kemudian check apakah file tersebut benar tersimpan atau tidak. \n",
        "\n",
        "\n",
        "Menggunakan dump() dari pickle untuk menyimpan file. Anda bisa gunakan code dibawah ini untuk menyimpan file model untuk di coba di local laptop anda pribadi.\n",
        "\n",
        "```\n",
        "#Save Model\n",
        "pickle.dump(log_model, open('best_model_churn.pkl', 'wb'))\n",
        "```"
      ],
      "metadata": {
        "id": "PmpArhIGsqBf"
      }
    },
    {
      "cell_type": "code",
      "source": [
        "print(log_model)"
      ],
      "metadata": {
        "colab": {
          "base_uri": "https://localhost:8080/"
        },
        "id": "86CFlcNXtoLK",
        "outputId": "c212b9e2-30c5-4c5b-8b3e-32bf8395d121"
      },
      "execution_count": 25,
      "outputs": [
        {
          "output_type": "stream",
          "name": "stdout",
          "text": [
            "LogisticRegression()\n"
          ]
        }
      ]
    },
    {
      "cell_type": "markdown",
      "source": [
        "## Kesimpulan\n",
        "\n",
        "Berdasarkan pemodelan yang telah dilakukan dengan menggunakan Logistic Regression, Random Forest dan Extreme Gradiant Boost, maka dapat disimpulkan untuk memprediksi churn dari pelanggan telco dengan menggunakan dataset ini model terbaiknya adalah menggunakan algortima Logistic Regression. Hal ini dikarenakan performa dari model Logistic Regression cenderung mampu memprediksi sama baiknya di fase training maupun testing (akurasi training 80%, akurasi testing 79%), dilain sisi algoritma lainnya cenderung Over-Fitting performanya. Akan tetapi hal ini tidak menjadikan kita untuk menarik kesimpulan bahwsannya jika untuk melakukan pemodelan apapun maka digunakan Logistic Regression, kita tetap harus melakukan banyak percobaan model untuk menentukan mana yang terbaik."
      ],
      "metadata": {
        "id": "43ma5il8uVDi"
      }
    },
    {
      "cell_type": "markdown",
      "source": [
        ""
      ],
      "metadata": {
        "id": "4LoX8gmJuY5Z"
      }
    }
  ]
}